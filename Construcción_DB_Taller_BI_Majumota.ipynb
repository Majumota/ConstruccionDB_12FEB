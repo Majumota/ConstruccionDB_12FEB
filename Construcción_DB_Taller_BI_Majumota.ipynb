{
  "nbformat": 4,
  "nbformat_minor": 0,
  "metadata": {
    "colab": {
      "provenance": [],
      "include_colab_link": true
    },
    "kernelspec": {
      "name": "python3",
      "display_name": "Python 3"
    },
    "language_info": {
      "name": "python"
    }
  },
  "cells": [
    {
      "cell_type": "markdown",
      "metadata": {
        "id": "view-in-github",
        "colab_type": "text"
      },
      "source": [
        "<a href=\"https://colab.research.google.com/github/Majumota/ConstruccionDB_12FEB/blob/main/Construcci%C3%B3n_DB_Taller_BI_Majumota.ipynb\" target=\"_parent\"><img src=\"https://colab.research.google.com/assets/colab-badge.svg\" alt=\"Open In Colab\"/></a>"
      ]
    },
    {
      "cell_type": "markdown",
      "source": [
        "Certainly! Designing a database schema for an online merch store requires understanding the entities involved and their relationships. Here's a basic schema for such a store:\n",
        "\n",
        "\n",
        "*We'll use SQLite, a lightweight database that's integrated with Python, to create this online merch store database.*\n",
        "\n",
        "Here's a Python script to set up the described database schema:"
      ],
      "metadata": {
        "id": "tPno05YcRk18"
      }
    },
    {
      "cell_type": "code",
      "source": [
        "import sqlite3"
      ],
      "metadata": {
        "id": "wgWlq5xzw2zA"
      },
      "execution_count": null,
      "outputs": []
    },
    {
      "cell_type": "code",
      "execution_count": null,
      "metadata": {
        "id": "MmZ-REB_MFgo"
      },
      "outputs": [],
      "source": [
        "def create_merch_store_db():\n",
        "    # Connect to SQLite database (it will create 'merch_store.db' if it doesn't exist)\n",
        "    connection = sqlite3.connect('merch_store.db')\n",
        "    cursor = connection.cursor()\n",
        "\n",
        "       # Pets table\n",
        "    cursor.execute('''\n",
        "    CREATE TABLE IF NOT EXISTS Mascotas (\n",
        "        IDMascota INTEGER PRIMARY KEY,\n",
        "        NombreMascota TEXT NOT NULL,\n",
        "        TipoMascota TEXT NOT NULL,\n",
        "        EdadMascota INTEGER,\n",
        "        PesoMascota INTEGER,\n",
        "        TamañoMascota TEXT,\n",
        "        RazaMascota TEXT NOT NULL\n",
        "    )\n",
        "    ''')\n",
        "\n",
        "\n",
        "    # Users table\n",
        "    cursor.execute('''\n",
        "    CREATE TABLE IF NOT EXISTS Clientes (\n",
        "        IDCliente INTEGER PRIMARY KEY,\n",
        "        IDMascota INTEGER,\n",
        "        Nombre TEXT NOT NULL,\n",
        "        Email TEXT NOT NULL UNIQUE,\n",
        "        Dirección TEXT,\n",
        "        Teléfono INTEGER,\n",
        "        Satisfacción TEXT NOT NULL,\n",
        "        Cumpleaños DATE,\n",
        "        FOREIGN KEY (IDMascota) REFERENCES Mascotas(IDMascota)\n",
        "    )\n",
        "    ''')\n",
        "\n",
        "    # Products table\n",
        "    cursor.execute('''\n",
        "    CREATE TABLE IF NOT EXISTS Productos (\n",
        "        IDProducto INTEGER PRIMARY KEY,\n",
        "        IDCliente INTEGER,\n",
        "        Categoría TEXT NOT NULL,\n",
        "        Producto TEXT NOT NULL,\n",
        "        PrecioProducto REAL NOT NULL,\n",
        "        MarcaProducto TEXT,\n",
        "        InventarioProducto INTEGER NOT NULL,\n",
        "        FOREIGN KEY (IDCliente) REFERENCES Clientes(IDCliente)\n",
        "    )\n",
        "    ''')\n",
        "\n",
        "    # Services table\n",
        "    cursor.execute('''\n",
        "    CREATE TABLE IF NOT EXISTS Servicios (\n",
        "        IDServicio INTEGER PRIMARY KEY,\n",
        "        IDCliente INTEGER,\n",
        "        Servicio TEXT NOT NULL,\n",
        "        PrecioServicio REAL NOT NULL,\n",
        "        ServicioDisponible TEXT NOT NULL,\n",
        "        FOREIGN KEY (IDCliente) REFERENCES Clientes(IDCliente)\n",
        "    )\n",
        "    ''')\n",
        "\n",
        "    # OrderDetails table\n",
        "    cursor.execute('''\n",
        "    CREATE TABLE IF NOT EXISTS Ventas (\n",
        "        IDVenta INTEGER PRIMARY KEY,\n",
        "        IDProducto INTEGER,\n",
        "        IDServicio INTEGER,\n",
        "        CantidadVenta INTEGER NOT NULL,\n",
        "        PrecioUnidad INTEGER NOT NULL,\n",
        "        TotalVenta INTEGER NOT NULL,\n",
        "        FechaVenta DATE NOT NULL,\n",
        "        MétodoPagoVenta TEXT,\n",
        "        CanalVenta TEXT,\n",
        "        FOREIGN KEY (IDProducto) REFERENCES Productos(IDProducto),\n",
        "        FOREIGN KEY (IDServicio) REFERENCES Servicios(IDServicio)\n",
        "    )\n",
        "    ''')\n",
        "\n",
        "    # Commit changes and close connection\n",
        "    connection.commit()\n",
        "    connection.close()\n",
        "\n",
        "# Execute the function to create the database and tables\n",
        "create_merch_store_db()\n"
      ]
    },
    {
      "cell_type": "code",
      "source": [
        "print (create_merch_store_db)"
      ],
      "metadata": {
        "colab": {
          "base_uri": "https://localhost:8080/"
        },
        "id": "FayPMXJGMNN5",
        "outputId": "ab98a8a3-3a53-4eb7-fdb5-b6990db989dc"
      },
      "execution_count": null,
      "outputs": [
        {
          "output_type": "stream",
          "name": "stdout",
          "text": [
            "<function create_merch_store_db at 0x7dbae6e44c10>\n"
          ]
        }
      ]
    },
    {
      "cell_type": "markdown",
      "source": [
        "An Entity-Relationship (ER) model represents the logical structure of a database. The ER diagram showcases entities, their attributes, and the relationships between them.\n",
        "\n",
        "Here's an ER diagram based on the database schema for the online merch store:"
      ],
      "metadata": {
        "id": "rpI-kmSvS_4A"
      }
    },
    {
      "cell_type": "code",
      "source": [
        "import sqlite3\n",
        "\n",
        "def print_database():\n",
        "    # Connect to the SQLite database\n",
        "    connection = sqlite3.connect('merch_store.db')\n",
        "    cursor = connection.cursor()\n",
        "\n",
        "    # List of tables in our schema\n",
        "    tables = ['Mascotas', 'Clientes', 'Productos', 'Servicios', 'Ventas']\n",
        "\n",
        "    # Iterate over each table and print its contents\n",
        "    for table in tables:\n",
        "        print(f\"===== {table} =====\")\n",
        "\n",
        "        # Fetch all rows from the table\n",
        "        cursor.execute(f\"SELECT * FROM {table}\")\n",
        "        rows = cursor.fetchall()\n",
        "\n",
        "        # Fetch column names for the table\n",
        "        cursor.execute(f\"PRAGMA table_info({table})\")\n",
        "        columns = [column[1] for column in cursor.fetchall()]\n",
        "\n",
        "        # Print column names\n",
        "        print(\", \".join(columns))\n",
        "\n",
        "        # Print rows\n",
        "        for row in rows:\n",
        "            print(row)\n",
        "\n",
        "        # Add a newline for separation\n",
        "        print(\"\\n\")\n",
        "\n",
        "    # Close the database connection\n",
        "    connection.close()\n",
        "\n",
        "# Execute the function to print the database contents\n",
        "print_database()\n"
      ],
      "metadata": {
        "colab": {
          "base_uri": "https://localhost:8080/"
        },
        "id": "A8K81pkqMzVs",
        "outputId": "3d6ea49c-2a36-48ca-d02d-581b9e6c510b"
      },
      "execution_count": null,
      "outputs": [
        {
          "output_type": "stream",
          "name": "stdout",
          "text": [
            "===== Mascotas =====\n",
            "IDMascota, NombreMascota, TipoMascota, EdadMascota, PesoMascota, TamañoMascota, RazaMascota\n",
            "\n",
            "\n",
            "===== Clientes =====\n",
            "IDCliente, IDMascota, Nombre, Email, Dirección, Teléfono, Satisfacción, Cumpleaños\n",
            "\n",
            "\n",
            "===== Productos =====\n",
            "IDProducto, IDCliente, Categoría, Producto, PrecioProducto, MarcaProducto, InventarioProducto\n",
            "\n",
            "\n",
            "===== Servicios =====\n",
            "IDServicio, IDCliente, Servicio, PrecioServicio, ServicioDisponible\n",
            "\n",
            "\n",
            "===== Ventas =====\n",
            "IDVenta, IDProducto, IDServicio, CantidadVenta, PrecioUnidad, TotalVenta, FechaVenta, MétodoPagoVenta, CanalVenta\n",
            "\n",
            "\n"
          ]
        }
      ]
    },
    {
      "cell_type": "markdown",
      "source": [
        "Running the script will insert test data into the database. After this, if you run the print_database() function from the previous answer, you'll see the test data printed out."
      ],
      "metadata": {
        "id": "fRjpeXh7THsT"
      }
    },
    {
      "cell_type": "code",
      "source": [
        "import sqlite3\n",
        "\n",
        "def insert_test_data():\n",
        "    # Connect to the SQLite database\n",
        "    connection = sqlite3.connect('merch_store.db')\n",
        "    cursor = connection.cursor()\n",
        "\n",
        "    # Insert test data into Pets\n",
        "    Mascotas = [\n",
        "        (1000, 'Rocky', 'Perro', 6, 30, 'Grande', 'Golden Retriever'),\n",
        "        (1001, 'Pancho', 'Gato', 3, 5, 'Pequeño', 'Persa')\n",
        "    ]\n",
        "    cursor.executemany(\"INSERT INTO Mascotas (IDMascota, NombreMascota, TipoMascota, EdadMascota, PesoMascota, TamañoMascota, RazaMascota) VALUES (?, ?, ?, ?, ?, ?, ?)\", Mascotas)\n",
        "\n",
        "    # Insert test data into Users\n",
        "    Clientes = [\n",
        "        (232100, 1000, 'Sofía Cruz', 'soficruz@gmail.com', 'Calle 25# 15-20', 3164765576, 'Muy satisfecho', '1980-03-25'),\n",
        "        (232155, 1001, 'Pablo Pérez', 'pablito25@hotmail.com', 'Calle 116# 50-3', 3145543212, 'Satisfecho', '1996-07-02'),\n",
        "    ]\n",
        "    cursor.executemany(\"INSERT INTO Clientes (IDCliente, IDMascota, Nombre, Email, Dirección, Teléfono, Satisfacción, Cumpleaños) VALUES (?, ?,?,?,?,?,?,?)\", Clientes)\n",
        "\n",
        "    # Insert test data into Products\n",
        "    Productos = [\n",
        "        (1001, 232100, 'Comida', 'Concentrado 15', 30000, 'Hills', 117),\n",
        "        (2876, 232155, 'Accesorios', 'Collar pequeño', 18500, 'PetsandPets', 27)\n",
        "    ]\n",
        "    cursor.executemany(\"INSERT INTO Productos (IDProducto, IDCliente, Categoría, Producto, PrecioProducto, MarcaProducto, InventarioProducto) VALUES (?, ?, ?, ?, ?, ?,?)\", Productos)\n",
        "\n",
        "    # Insert test data into Services\n",
        "    Servicios = [\n",
        "        (5546, 232100, 'Peluquería', 30900, 'Si'),\n",
        "        (5567, 232155, 'Baño', 40000, 'No')\n",
        "    ]\n",
        "    cursor.executemany(\"INSERT INTO Servicios (IDServicio, IDCliente, Servicio, PrecioServicio, ServicioDisponible) VALUES (?, ?, ?, ?,?)\", Servicios)\n",
        "\n",
        "    # Insert test data into Ventas\n",
        "    Ventas = [\n",
        "        (38276, 1001, 5546, 3, 30000, 90000, '2023-02-25', 'Efectivo', 'Físico'),\n",
        "        (76452, 2876, 5567, 1, 18500, 18500, '2023-04-27', 'Tarjeta', 'Online'),\n",
        "    ]\n",
        "    cursor.executemany(\"INSERT INTO Ventas (IDVenta, IDProducto, IDServicio, CantidadVenta, PrecioUnidad, TotalVenta, FechaVenta, MétodoPagoVenta, CanalVenta) VALUES (?, ?, ?, ?,?,?,?,?,?)\", Ventas)\n",
        "\n",
        "    # Commit changes and close connection\n",
        "    connection.commit()\n",
        "    connection.close()\n",
        "\n",
        "# Execute the function to insert test data\n",
        "insert_test_data()\n"
      ],
      "metadata": {
        "id": "dySVzWXENpKK"
      },
      "execution_count": null,
      "outputs": []
    },
    {
      "cell_type": "code",
      "source": [
        "# Execute the function to print the database contents\n",
        "print_database()"
      ],
      "metadata": {
        "colab": {
          "base_uri": "https://localhost:8080/"
        },
        "id": "0Pki858HNvQH",
        "outputId": "42db4b1b-c6d9-4a61-c973-73d6c3207837"
      },
      "execution_count": null,
      "outputs": [
        {
          "output_type": "stream",
          "name": "stdout",
          "text": [
            "===== Mascotas =====\n",
            "IDMascota, NombreMascota, TipoMascota, EdadMascota, PesoMascota, TamañoMascota, RazaMascota\n",
            "(1000, 'Rocky', 'Perro', 6, 30, 'Grande', 'Golden Retriever')\n",
            "(1001, 'Pancho', 'Gato', 3, 5, 'Pequeño', 'Persa')\n",
            "\n",
            "\n",
            "===== Clientes =====\n",
            "IDCliente, IDMascota, Nombre, Email, Dirección, Teléfono, Satisfacción, Cumpleaños\n",
            "(232100, 1000, 'Sofía Cruz', 'soficruz@gmail.com', 'Calle 25# 15-20', 3164765576, 'Muy satisfecho', '1980-03-25')\n",
            "(232155, 1001, 'Pablo Pérez', 'pablito25@hotmail.com', 'Calle 116# 50-3', 3145543212, 'Satisfecho', '1996-07-02')\n",
            "\n",
            "\n",
            "===== Productos =====\n",
            "IDProducto, IDCliente, Categoría, Producto, PrecioProducto, MarcaProducto, InventarioProducto\n",
            "(1001, 232100, 'Comida', 'Concentrado 15', 30000.0, 'Hills', 117)\n",
            "(2876, 232155, 'Accesorios', 'Collar pequeño', 18500.0, 'PetsandPets', 27)\n",
            "\n",
            "\n",
            "===== Servicios =====\n",
            "IDServicio, IDCliente, Servicio, PrecioServicio, ServicioDisponible\n",
            "(5546, 232100, 'Peluquería', 30900.0, 'Si')\n",
            "(5567, 232155, 'Baño', 40000.0, 'No')\n",
            "\n",
            "\n",
            "===== Ventas =====\n",
            "IDVenta, IDProducto, IDServicio, CantidadVenta, PrecioUnidad, TotalVenta, FechaVenta, MétodoPagoVenta, CanalVenta\n",
            "(38276, 1001, 5546, 3, 30000, 90000, '2023-02-25', 'Efectivo', 'Físico')\n",
            "(76452, 2876, 5567, 1, 18500, 18500, '2023-04-27', 'Tarjeta', 'Online')\n",
            "\n",
            "\n"
          ]
        }
      ]
    },
    {
      "cell_type": "code",
      "source": [
        "pip install pandas openpyxl"
      ],
      "metadata": {
        "colab": {
          "base_uri": "https://localhost:8080/"
        },
        "id": "pBKZQou7OGBz",
        "outputId": "60cb016c-a2fe-4e42-e64c-04be4d3f1bdb"
      },
      "execution_count": null,
      "outputs": [
        {
          "output_type": "stream",
          "name": "stdout",
          "text": [
            "Requirement already satisfied: pandas in /usr/local/lib/python3.10/dist-packages (1.5.3)\n",
            "Requirement already satisfied: openpyxl in /usr/local/lib/python3.10/dist-packages (3.1.2)\n",
            "Requirement already satisfied: python-dateutil>=2.8.1 in /usr/local/lib/python3.10/dist-packages (from pandas) (2.8.2)\n",
            "Requirement already satisfied: pytz>=2020.1 in /usr/local/lib/python3.10/dist-packages (from pandas) (2023.3)\n",
            "Requirement already satisfied: numpy>=1.21.0 in /usr/local/lib/python3.10/dist-packages (from pandas) (1.23.5)\n",
            "Requirement already satisfied: et-xmlfile in /usr/local/lib/python3.10/dist-packages (from openpyxl) (1.1.0)\n",
            "Requirement already satisfied: six>=1.5 in /usr/local/lib/python3.10/dist-packages (from python-dateutil>=2.8.1->pandas) (1.16.0)\n"
          ]
        }
      ]
    },
    {
      "cell_type": "markdown",
      "source": [
        "To export the database contents to an Excel file, you can use the pandas library in combination with the openpyxl library. Here's how you can do it:\n",
        "\n",
        "Use pandas to read the database tables into dataframes.\n",
        "Use the to_excel function from pandas to write these dataframes to an Excel file.\n",
        "First, ensure you have both pandas and openpyxl installed. Since I can't access the internet directly in this environment, I'll provide you with a script assuming you have these libraries installed. If you don't, you can install them using:"
      ],
      "metadata": {
        "id": "WzmkrxJpTl3a"
      }
    },
    {
      "cell_type": "code",
      "source": [
        "import sqlite3\n",
        "import pandas as pd"
      ],
      "metadata": {
        "id": "G4vQDOsYOJO4"
      },
      "execution_count": null,
      "outputs": []
    },
    {
      "cell_type": "code",
      "source": [
        "# Instalar la biblioteca necesaria y montar Google Drive\n",
        "from google.colab import drive\n",
        "drive.mount('/content/drive')"
      ],
      "metadata": {
        "colab": {
          "base_uri": "https://localhost:8080/"
        },
        "id": "btQwsGoKQApu",
        "outputId": "6a9a401a-d734-42c7-dd77-e5677e6e331e"
      },
      "execution_count": null,
      "outputs": [
        {
          "output_type": "stream",
          "name": "stdout",
          "text": [
            "Mounted at /content/drive\n"
          ]
        }
      ]
    },
    {
      "cell_type": "code",
      "source": [
        "def export_to_excel_corrected():\n",
        "    # Connect to the SQLite database\n",
        "    connection = sqlite3.connect('merch_store.db')\n",
        "\n",
        "    # List of tables in our schema\n",
        "    tables = ['Mascotas', 'Clientes', 'Productos', 'Servicios', 'Ventas']\n",
        "\n",
        "    # Create a new Excel writer object\n",
        "    file_path = '/content/drive/My Drive/merch_store_natalia.xlsx'\n",
        "    with pd.ExcelWriter(file_path, engine='openpyxl') as writer:\n",
        "        for table in tables:\n",
        "            # Read table into dataframe\n",
        "            df = pd.read_sql(f\"SELECT * FROM {table}\", connection)\n",
        "\n",
        "            # Write dataframe to Excel\n",
        "            df.to_excel(writer, sheet_name=table, index=False)\n",
        "\n",
        "    # Close the database connection\n",
        "    connection.close()\n",
        "\n",
        "    print(f\"Data exported to {file_path}\")\n",
        "\n",
        "# Execute the function to export data to Excel\n",
        "export_to_excel_corrected()\n"
      ],
      "metadata": {
        "colab": {
          "base_uri": "https://localhost:8080/"
        },
        "id": "U01B5O6FP68q",
        "outputId": "d00ffae1-35b1-4da0-8b9a-f0b50784130a"
      },
      "execution_count": null,
      "outputs": [
        {
          "output_type": "stream",
          "name": "stdout",
          "text": [
            "Data exported to /content/drive/My Drive/merch_store_natalia.xlsx\n"
          ]
        }
      ]
    }
  ]
}